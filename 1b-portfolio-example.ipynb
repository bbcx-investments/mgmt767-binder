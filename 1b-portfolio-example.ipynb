{
 "cells": [
  {
   "cell_type": "code",
   "execution_count": 1,
   "metadata": {},
   "outputs": [],
   "source": [
    "import pandas as pd\n",
    "from sqlalchemy import create_engine\n",
    "import pymssql"
   ]
  },
  {
   "cell_type": "markdown",
   "metadata": {},
   "source": [
    "#### Connect to the SQL server"
   ]
  },
  {
   "cell_type": "code",
   "execution_count": 2,
   "metadata": {},
   "outputs": [],
   "source": [
    "server = 'fs.rice.edu'\n",
    "database = 'stocks'\n",
    "username = 'stocks'\n",
    "password = '6LAZH1'\n",
    "\n",
    "string = \"mssql+pymssql://\" + username + \":\" + password + \"@\" + server + \"/\" + database \n",
    "conn = create_engine(string).connect()"
   ]
  },
  {
   "cell_type": "markdown",
   "metadata": {},
   "source": [
    "#### Read some GHZ predictors"
   ]
  },
  {
   "cell_type": "code",
   "execution_count": 12,
   "metadata": {},
   "outputs": [],
   "source": [
    "df = pd.read_sql(\"select ticker, roeq, acc, agr, mom12m, mom1m, price, mve from today\", conn)\n",
    "df = df.dropna()\n",
    "df = df[df.price>=5]\n",
    "\n",
    "df = df.set_index(\"ticker\")\n"
   ]
  },
  {
   "cell_type": "markdown",
   "metadata": {},
   "source": [
    "#### Choose desired size category\n",
    "\n",
    "This filters to stocks outside top 1000."
   ]
  },
  {
   "cell_type": "code",
   "execution_count": 13,
   "metadata": {},
   "outputs": [],
   "source": [
    "df[\"size\"] = df.mve.rank(ascending=False)\n",
    "df = df[df[\"size\"]>1000].copy()"
   ]
  },
  {
   "cell_type": "markdown",
   "metadata": {},
   "source": [
    "#### Rank on predictors, 0=worst, 1=best\n",
    "\n",
    "Assume high roeq and mom12m are best.  Assume low acc, agr, and mom1m are best."
   ]
  },
  {
   "cell_type": "code",
   "execution_count": 18,
   "metadata": {},
   "outputs": [],
   "source": [
    "for predictor in [\"roeq\", \"mom12m\"]:\n",
    "    df[predictor] = df[predictor].rank(pct=True, ascending=False)\n",
    "for predictor in [\"acc\", \"agr\", \"mom1m\"]:\n",
    "    df[predictor] = df[predictor].rank(pct=True, ascending=False)\n",
    "df[\"composite\"] = df[[\"roeq\", \"mom12m\", \"acc\", \"agr\", \"mom1m\"]].mean(axis=1)\n",
    "df = df.sort_values(by=\"composite\", ascending=False)\n",
    "df.iloc[:100].to_csv(\"files/top.csv\")\n"
   ]
  }
 ],
 "metadata": {
  "kernelspec": {
   "display_name": "Python 3.10.7 64-bit",
   "language": "python",
   "name": "python3"
  },
  "language_info": {
   "codemirror_mode": {
    "name": "ipython",
    "version": 3
   },
   "file_extension": ".py",
   "mimetype": "text/x-python",
   "name": "python",
   "nbconvert_exporter": "python",
   "pygments_lexer": "ipython3",
   "version": "3.10.7"
  },
  "orig_nbformat": 4,
  "vscode": {
   "interpreter": {
    "hash": "fde46c13439050da17ff960cfbfb27519ac693264eff9f61b85b21506eee5af7"
   }
  }
 },
 "nbformat": 4,
 "nbformat_minor": 2
}
