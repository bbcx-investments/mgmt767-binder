{
 "cells": [
  {
   "cell_type": "code",
   "execution_count": 1,
   "id": "68995419",
   "metadata": {},
   "outputs": [],
   "source": [
    "import pandas as pd\n",
    "import numpy as np\n",
    "from pandas_datareader import DataReader as pdr\n",
    "import yfinance as yf\n",
    "import plotly.express as px\n",
    "import plotly.graph_objects as go\n",
    "from plotly.subplots import make_subplots\n",
    "import plotly.io as pio\n",
    "import statsmodels.formula.api as smf\n",
    "from datetime import datetime\n",
    "import pymssql\n",
    "from sqlalchemy import create_engine\n",
    "\n"
   ]
  },
  {
   "attachments": {},
   "cell_type": "markdown",
   "id": "d502089f",
   "metadata": {},
   "source": [
    "### Input and output"
   ]
  },
  {
   "cell_type": "code",
   "execution_count": 2,
   "id": "e916fcda",
   "metadata": {},
   "outputs": [],
   "source": [
    "input_file = 'files/TransactionHistory_3_23_2023.csv'\n",
    "output_dir = \"cqa_figures\"\n",
    "\n",
    "# if write_html=1 doesn't work, try write_html=2\n",
    "write_html = 3\n",
    "\n",
    "def fig_html(fig, file):\n",
    "    if write_html==1:\n",
    "        fig.to_html(file)\n",
    "    elif write_html==2:\n",
    "        with open(file, \"w\", encoding=\"utf-8\") as f:\n",
    "            f.write(fig.to_html()) \n",
    "    else:\n",
    "        print(\"didn't write to html\")\n"
   ]
  },
  {
   "attachments": {},
   "cell_type": "markdown",
   "id": "3bd13b05",
   "metadata": {},
   "source": [
    "### Process transactions file"
   ]
  },
  {
   "cell_type": "code",
   "execution_count": 3,
   "id": "2184f259",
   "metadata": {},
   "outputs": [],
   "source": [
    "transact = pd.read_csv(input_file,parse_dates=['CreateDate'])\n",
    "transact = transact.rename(columns={\"Symbol\": \"ticker\", \"CreateDate\": \"date\"})\n",
    "transact['Price'] = transact.Price.apply(lambda x: x[1:]).astype(float)\n",
    "transact['Quantity'] = transact.Quantity.astype(int)\n",
    "transact['date'] = transact.date.dt.date.astype(str)\n",
    "transact = transact.sort_values(by=[\"ticker\", \"date\",'TransactionType'])\n",
    "transact = transact.drop_duplicates(subset=['ticker','Quantity','Price','date'],keep='first')  # because short proceeds records show up twice (I think)\n",
    "transact.Amount = transact.Amount.map(\n",
    "    lambda x: float(x[1:].replace(\",\", \"\")) if x[0] != \"(\" else -float(x[2:-1].replace(\",\", \"\"))\n",
    ")    \n",
    "\n",
    "cashflow = transact.groupby(\"date\").Amount.sum()\n",
    "cash = 1000000 + cashflow.cumsum()\n",
    "\n",
    "trades = transact[transact.TransactionType != 'Dividends']\n",
    "trades = trades.groupby([\"ticker\", \"date\"]).Quantity.sum()\n",
    "\n",
    "positions = trades.groupby(\"ticker\").cumsum()       # sum up trades over time to get positions"
   ]
  },
  {
   "attachments": {},
   "cell_type": "markdown",
   "id": "25928eba",
   "metadata": {},
   "source": [
    "### Read closing prices from Yahoo"
   ]
  },
  {
   "cell_type": "code",
   "execution_count": 4,
   "id": "d61f717c",
   "metadata": {},
   "outputs": [
    {
     "name": "stdout",
     "output_type": "stream",
     "text": [
      "[*********************100%***********************]  96 of 96 completed\n",
      "\n",
      "2 Failed downloads:\n",
      "- FFHL: No timezone found, symbol may be delisted\n",
      "- SPNE: No timezone found, symbol may be delisted\n"
     ]
    }
   ],
   "source": [
    "prices = yf.download(list(transact.ticker.unique()), start=\"2022-11-04\")\n",
    "\n",
    "prices = prices.stack()\n",
    "prices.index.names = [\"date\", \"ticker\"]\n",
    "prices = prices.reset_index()[[\"date\", \"ticker\", \"Close\"]]\n",
    "prices.date = prices.date.dt.date.astype(str)\n",
    "prices = prices.set_index([\"ticker\", \"date\"])"
   ]
  },
  {
   "attachments": {},
   "cell_type": "markdown",
   "id": "d73584f0",
   "metadata": {},
   "source": [
    "### Combine transactions with prices"
   ]
  },
  {
   "cell_type": "code",
   "execution_count": 5,
   "id": "b06b8bf7",
   "metadata": {},
   "outputs": [],
   "source": [
    "df = prices.merge(positions, left_index=True, right_index=True, how=\"left\")\n",
    "indx = pd.MultiIndex.from_product(\n",
    "    (df.index.unique(\"ticker\"), df.index.unique(\"date\"))\n",
    ")\n",
    "df = df.reindex(indx)                                       # expand dataframe to all (ticker, date) pairs\n",
    "\n",
    "df[\"Price\"] = transact.set_index([\"ticker\", \"date\"]).Price  # use transaction prices when available\n",
    "df[\"Price\"] = df.Price.fillna(df.Close)                     # use closing prices on non-transaction dates\n",
    "df[\"Price\"] = df.groupby(\"ticker\").Price.ffill()            # filling forward for delisted stocks\n",
    "\n",
    "df[\"Quantity\"] = df.groupby(\"ticker\").Quantity.ffill()      # fill quantities until next transaction date\n",
    "df[\"Value\"] = df.Quantity * df.Price"
   ]
  },
  {
   "attachments": {},
   "cell_type": "markdown",
   "id": "f501efd1",
   "metadata": {},
   "source": [
    "### Compute portfolio value and daily returns"
   ]
  },
  {
   "cell_type": "code",
   "execution_count": 6,
   "id": "4ca806aa",
   "metadata": {},
   "outputs": [],
   "source": [
    "portfolio = df.groupby(\"date\").Value.sum()\n",
    "portfolio = pd.DataFrame(portfolio).merge(cash, on=\"date\", how=\"left\")\n",
    "portfolio.columns = [\"stocks\", \"cash\"]\n",
    "portfolio[\"cash\"] = portfolio.cash.ffill()\n",
    "equity = portfolio.stocks + portfolio.cash\n",
    "ret = equity.pct_change()"
   ]
  },
  {
   "attachments": {},
   "cell_type": "markdown",
   "id": "9206bd2f",
   "metadata": {},
   "source": [
    "### Sharpe ratio, etc."
   ]
  },
  {
   "cell_type": "code",
   "execution_count": 7,
   "id": "936bcbff",
   "metadata": {},
   "outputs": [
    {
     "name": "stdout",
     "output_type": "stream",
     "text": [
      "annualized average return =  40.5%\n",
      "annualized std dev is  55.2%\n",
      "annualized Sharpe ratio is  73.3%\n"
     ]
    }
   ],
   "source": [
    "print(f\"annualized average return = {252*ret.mean(): .1%}\")\n",
    "print(f\"annualized std dev is {np.sqrt(252)*ret.std(): .1%}\")\n",
    "print(f\"annualized Sharpe ratio is {np.sqrt(252)*ret.mean()/ret.std(): .1%}\")"
   ]
  },
  {
   "attachments": {},
   "cell_type": "markdown",
   "id": "928eb3dd",
   "metadata": {},
   "source": [
    "### Plot cumulative return"
   ]
  },
  {
   "cell_type": "code",
   "execution_count": 8,
   "id": "3f0ef1c3",
   "metadata": {},
   "outputs": [],
   "source": [
    "cum_ret = equity/1000000\n",
    "trace1 = go.Scatter(\n",
    "    x = cum_ret.index.to_list(),\n",
    "    y = cum_ret-1,\n",
    "    mode=\"lines\",\n",
    "    hovertemplate=\"%{x}<br>cumulative ret = %{y:.2%}<extra></extra>\"\n",
    ")\n",
    "\n",
    "fig = go.Figure(trace1)\n",
    "\n",
    "fig.update_yaxes(\n",
    "    title_text=\"<b>Cumulative Return</b>\", \n",
    "    tickformat=\".0%\", \n",
    ")\n",
    "\n",
    "fig.update_layout(\n",
    "    template=\"plotly_white\",\n",
    "    font_size=16,\n",
    "    showlegend=False,\n",
    ")\n",
    "\n",
    "fig.write_image(f\"{output_dir}/cumret.jpeg\")\n",
    "download = f\"{output_dir}/cumret.html\"\n",
    "fig_html(fig, download)\n",
    "fig.show()"
   ]
  },
  {
   "attachments": {},
   "cell_type": "markdown",
   "id": "50b9487f",
   "metadata": {},
   "source": [
    "### Plot drawdowns"
   ]
  },
  {
   "cell_type": "code",
   "execution_count": null,
   "id": "f6d78790",
   "metadata": {},
   "outputs": [],
   "source": [
    "\n",
    "\n",
    "cum_max = cum_ret.expanding().max()\n",
    "drawdown = cum_ret/cum_max - 1\n",
    "\n",
    "trace2 = go.Scatter(\n",
    "    x = drawdown.index.to_list(),\n",
    "    y = drawdown,\n",
    "    mode=\"lines\",\n",
    "   hovertemplate=\"%{x}<br>drawdown = %{y:.2%}<extra></extra>\"\n",
    ")\n",
    "\n",
    "fig = make_subplots(specs=[[{\"secondary_y\": True}]])\n",
    "fig.add_trace(trace1, secondary_y=False)\n",
    "fig.add_trace(trace2, secondary_y=True)\n",
    "\n",
    "plotly_template = pio.templates[\"plotly_white\"]\n",
    "colors = plotly_template.layout.colorway\n",
    "\n",
    "fig.update_yaxes(\n",
    "    title_text=\"<b>Cumulative Return</b>\", \n",
    "    title_font=dict(color=colors[0]), \n",
    "    color=colors[0], \n",
    "    tickformat=\".0%\", \n",
    "    secondary_y=False\n",
    ")\n",
    "fig.update_yaxes(\n",
    "    title_text=\"<b>Drawdown</b>\", \n",
    "    title_font=dict(color=colors[1]), \n",
    "    color=colors[1], \n",
    "    tickformat=\".0%\", \n",
    "    secondary_y=True\n",
    ")\n",
    "\n",
    "fig.update_layout(\n",
    "    template=\"plotly_white\",\n",
    "    font_size=16,\n",
    "    showlegend=False,\n",
    ")\n",
    "\n",
    "fig.write_image(f\"{output_dir}/drawdown.jpeg\")\n",
    "download = f\"{output_dir}/drawdown.html\"\n",
    "fig_html(fig, download)\n",
    "fig.show()"
   ]
  },
  {
   "attachments": {},
   "cell_type": "markdown",
   "id": "3a585646",
   "metadata": {},
   "source": [
    "### Compare to S&P 500 (SPY)"
   ]
  },
  {
   "cell_type": "code",
   "execution_count": null,
   "id": "87fb189c",
   "metadata": {},
   "outputs": [],
   "source": [
    "spy = yf.download(\"SPY\", start=\"2022-11-03\")[\"Adj Close\"].pct_change().dropna()\n",
    "spy.index = [datetime.strftime(x, \"%Y-%m-%d\") for x in spy.index]\n",
    "\n",
    "rets = pd.concat((ret, spy), axis=1)\n",
    "rets.columns = [\"ret\", \"spy\"]\n",
    "\n",
    "result = smf.ols(\"ret~spy\", rets).fit()\n",
    "alpha = result.params[0]\n",
    "beta = result.params[1]\n",
    "info_ratio = alpha / np.sqrt(result.mse_resid)\n",
    "\n",
    "spy = beta*spy\n",
    "active = ret - spy\n",
    "\n",
    "trace1 = go.Scatter(\n",
    "    x = ret.index.to_list(),\n",
    "    y = (1+ret).cumprod()-1,\n",
    "    name = \"Total return\",\n",
    "    hovertemplate=\"%{x}<br>total=%{y:.2%}<extra></extra>\"\n",
    ")\n",
    "\n",
    "trace2 = go.Scatter(\n",
    "    x = active.index.to_list(),\n",
    "    y = (1+active).cumprod()-1,\n",
    "    name = \"Active part of return\",\n",
    "    hovertemplate=\"%{x}<br>active=%{y:.2%}<extra></extra>\"\n",
    ")\n",
    "trace3 = go.Scatter(\n",
    "    x = spy.index.to_list(),\n",
    "    y = (1+spy).cumprod()-1,\n",
    "    name = \"S&P 500 part of return\",\n",
    "    hovertemplate=\"%{x}<br>spy=%{y:.2%}<extra></extra>\"\n",
    ")\n",
    "fig = go.Figure()\n",
    "for trace in [trace1, trace3]:\n",
    "    fig.add_trace(trace)\n",
    "\n",
    "fig.update_layout(\n",
    "    yaxis_title=\"Cumulative Return\",\n",
    "    xaxis_title_font = {\"size\":18},\n",
    "    template=\"plotly_white\",\n",
    "    yaxis_tickformat=\".0%\",\n",
    "    height=600,  \n",
    "    width=1000,\n",
    "    legend=dict(\n",
    "      x = 0.01,\n",
    "      y = 0.99\n",
    "    ),\n",
    "    font_size=16\n",
    ")\n",
    "fig.write_image(f\"{output_dir}/spy.jpeg\")\n",
    "download = f\"{output_dir}/spy.html\"\n",
    "fig_html(fig, download)\n",
    "fig.show()"
   ]
  },
  {
   "cell_type": "code",
   "execution_count": null,
   "id": "dbde94e3",
   "metadata": {},
   "outputs": [],
   "source": [
    "print(f\"annualized alpha with respect to SPY = {252*result.params[0]:.1%}\")\n",
    "print(f\"beta with respect to SPY = {result.params[1]:.2f}\")\n",
    "print(f\"annualized info ratio with respect to SPY = {np.sqrt(252)* alpha / np.sqrt(result.mse_resid):.1%}\")\n"
   ]
  },
  {
   "attachments": {},
   "cell_type": "markdown",
   "id": "e9bec764",
   "metadata": {},
   "source": [
    "### Compare to Russell 2000 (IWM)"
   ]
  },
  {
   "cell_type": "code",
   "execution_count": null,
   "id": "8d485758",
   "metadata": {},
   "outputs": [],
   "source": [
    "spy = yf.download(\"IWM\", start=\"2022-11-03\")[\"Adj Close\"].pct_change().dropna()\n",
    "spy.index = [datetime.strftime(x, \"%Y-%m-%d\") for x in spy.index]\n",
    "\n",
    "rets = pd.concat((ret, spy), axis=1)\n",
    "rets.columns = [\"ret\", \"spy\"]\n",
    "\n",
    "result = smf.ols(\"ret~spy\", rets).fit()\n",
    "alpha = result.params[0]\n",
    "beta = result.params[1]\n",
    "info_ratio = alpha / np.sqrt(result.mse_resid)\n",
    "\n",
    "spy = beta*spy\n",
    "active = ret - spy\n",
    "\n",
    "trace1 = go.Scatter(\n",
    "    x = ret.index.to_list(),\n",
    "    y = (1+ret).cumprod()-1,\n",
    "    name = \"Total return\",\n",
    "    hovertemplate=\"%{x}<br>total=%{y:.2%}<extra></extra>\"\n",
    ")\n",
    "\n",
    "trace2 = go.Scatter(\n",
    "    x = active.index.to_list(),\n",
    "    y = (1+active).cumprod()-1,\n",
    "    name = \"Active part of return\",\n",
    "    hovertemplate=\"%{x}<br>active=%{y:.2%}<extra></extra>\"\n",
    ")\n",
    "trace3 = go.Scatter(\n",
    "    x = spy.index.to_list(),\n",
    "    y = (1+spy).cumprod()-1,\n",
    "    name = \"Russell 2000 part of return\",\n",
    "    hovertemplate=\"%{x}<br>iwm=%{y:.2%}<extra></extra>\"\n",
    ")\n",
    "fig = go.Figure()\n",
    "for trace in [trace1, trace3]:\n",
    "    fig.add_trace(trace)\n",
    "\n",
    "fig.update_layout(\n",
    "    yaxis_title=\"Cumulative Return\",\n",
    "    xaxis_title_font = {\"size\":18},\n",
    "    template=\"plotly_white\",\n",
    "    yaxis_tickformat=\".0%\",\n",
    "    height=600,  \n",
    "    width=1000,\n",
    "    legend=dict(\n",
    "      x = 0.01,\n",
    "      y = 0.99\n",
    "    ),\n",
    "    font_size=16\n",
    ")\n",
    "fig.write_image(f\"{output_dir}/russell.jpeg\")\n",
    "download = f\"{output_dir}/russell.html\"\n",
    "fig_html(fig, download)\n",
    "fig.show()"
   ]
  },
  {
   "cell_type": "code",
   "execution_count": null,
   "id": "ed36646e",
   "metadata": {},
   "outputs": [],
   "source": [
    "print(f\"annualized alpha with respect to IWM = {252*result.params[0]:.1%}\")\n",
    "print(f\"beta with respect to IWM = {result.params[1]:.2f}\")\n",
    "print(f\"annualized info ratio with respect to IWM = {np.sqrt(252)* alpha / np.sqrt(result.mse_resid):.1%}\")"
   ]
  },
  {
   "attachments": {},
   "cell_type": "markdown",
   "id": "4491210b",
   "metadata": {},
   "source": [
    "### Fama-French attribution analysis"
   ]
  },
  {
   "cell_type": "code",
   "execution_count": null,
   "id": "25052fbe",
   "metadata": {},
   "outputs": [],
   "source": [
    "ff = pdr(\"F-F_Research_Data_5_Factors_2x3_daily\", \"famafrench\", start=\"2022-11-04\")[0]/100\n",
    "ff = ff.rename(columns={\"Mkt-RF\":  \"Mkt_RF\"})\n",
    "ff.index = ff.index.astype(str)\n",
    "ff[\"xret\"] = ret - ff.RF\n"
   ]
  },
  {
   "cell_type": "code",
   "execution_count": null,
   "id": "fbfdca17",
   "metadata": {},
   "outputs": [],
   "source": [
    "result = smf.ols(\"xret~Mkt_RF+SMB+HML+CMA+RMW\", data=ff.dropna()).fit()\n",
    "print(result.summary().tables[1])"
   ]
  },
  {
   "cell_type": "code",
   "execution_count": null,
   "id": "42818b15",
   "metadata": {},
   "outputs": [],
   "source": [
    "info = np.sqrt(252)*result.params[\"Intercept\"]/np.sqrt(result.mse_resid)\n",
    "print(f\"annualized FF information ratio is {info:.1%}\")"
   ]
  },
  {
   "cell_type": "code",
   "execution_count": null,
   "id": "6d3876a9",
   "metadata": {},
   "outputs": [],
   "source": [
    "betas = result.params[1:]\n",
    "mkt = betas[0]*ff.Mkt_RF \n",
    "smb = betas[1]*ff.SMB\n",
    "hml = betas[2]*ff.HML\n",
    "cma = betas[3]*ff.CMA\n",
    "rmw = betas[4]*ff.RMW\n",
    "active = ff.xret - mkt - smb - hml - cma - rmw\n",
    "\n",
    "trace1 = go.Scatter(\n",
    "    x = ff.index.to_list(),\n",
    "    y = (1+ff.xret).cumprod()-1,\n",
    "    name = \"Total\",\n",
    "    hovertemplate=\"%{x}<br>total=%{y:.1%}<extra></extra>\"\n",
    ")\n",
    "trace2 = go.Scatter(\n",
    "    x = ff.index.to_list(),\n",
    "    y = (1+mkt).cumprod()-1,\n",
    "    name = \"Market\",\n",
    "    hovertemplate=\"%{x}<br>market=%{y:.1%}<extra></extra>\"\n",
    ")\n",
    "trace3 = go.Scatter(\n",
    "    x = ff.index.to_list(),\n",
    "    y = (1+smb).cumprod()-1,\n",
    "    name = \"SMB\",\n",
    "    hovertemplate=\"%{x}<br>smb=%{y:.1%}<extra></extra>\"\n",
    ")\n",
    "trace4 = go.Scatter(\n",
    "    x = ff.index.to_list(),\n",
    "    y = (1+hml).cumprod()-1,\n",
    "    name = \"HML\",\n",
    "    hovertemplate=\"%{x}<br>hml=%{y:.1%}<extra></extra>\"\n",
    ")\n",
    "trace5 = go.Scatter(\n",
    "    x = ff.index.to_list(),\n",
    "    y = (1+cma).cumprod()-1,\n",
    "    name = \"CMA\",\n",
    "    hovertemplate=\"%{x}<br>cma=%{y:.1%}<extra></extra>\"\n",
    ")\n",
    "trace6 = go.Scatter(\n",
    "    x = ff.index.to_list(),\n",
    "    y = (1+rmw).cumprod()-1,\n",
    "    name = \"RMW\",\n",
    "    hovertemplate=\"%{x}<br>rmw=%{y:.1%}<extra></extra>\"\n",
    ")\n",
    "trace7 = go.Scatter(\n",
    "    x = ff.index.to_list(),\n",
    "    y = (1+active).cumprod()-1,\n",
    "    name = \"Active\",\n",
    "    hovertemplate=\"%{x}<br>active=%{y:.1%}<extra></extra>\"\n",
    ")\n",
    "fig = go.Figure()\n",
    "for trace in [trace1, trace2, trace3, trace4, trace5, trace6]:\n",
    "    fig.add_trace(trace)\n",
    "\n",
    "fig.update_layout(\n",
    "    yaxis_title=\"Cumulative Return\",\n",
    "    xaxis_title_font = {\"size\":18},\n",
    "    template=\"plotly_white\",\n",
    "    yaxis_tickformat=\".0%\",\n",
    "    height=600,  \n",
    "    width=1000,\n",
    "    legend=dict(\n",
    "      x = 0.01,\n",
    "      y = 0.99\n",
    "    ),\n",
    "    font_size=16\n",
    ")\n",
    "fig.write_image(f\"{output_dir}/attribution.jpeg\")\n",
    "download = f\"{output_dir}/attribution.html\"\n",
    "fig_html(fig, download)\n",
    "fig.show()"
   ]
  },
  {
   "attachments": {},
   "cell_type": "markdown",
   "id": "2f7ffe57",
   "metadata": {},
   "source": [
    "### Get industries and some stock characteristics"
   ]
  },
  {
   "cell_type": "code",
   "execution_count": null,
   "id": "fbb01a65",
   "metadata": {},
   "outputs": [],
   "source": [
    "server = 'fs.rice.edu'\n",
    "database = 'stocks'\n",
    "username = 'stocks'\n",
    "password = '6LAZH1'\n",
    "string = \"mssql+pymssql://\" + username + \":\" + password + \"@\" + server + \"/\" + database \n",
    "\n",
    "conn = create_engine(string).connect()"
   ]
  },
  {
   "cell_type": "code",
   "execution_count": null,
   "id": "ffd9bb20",
   "metadata": {},
   "outputs": [],
   "source": [
    "today = pd.read_sql(\"select ticker, famaindustry, agr, bm, marketcap, operprof, mom12m, retvol from today\", conn)\n",
    "complete = df.reset_index().merge(today, on=\"ticker\", how=\"outer\")\n",
    "\n",
    "oneday = complete[complete.date==\"2023-03-01\"].copy()\n",
    "longs = oneday[oneday.Quantity>0]\n",
    "shorts = oneday[oneday.Quantity<0]\n",
    "shorts[\"Value\"] = - shorts.Value\n"
   ]
  },
  {
   "attachments": {},
   "cell_type": "markdown",
   "id": "7b5852c0",
   "metadata": {},
   "source": [
    "### Long industries"
   ]
  },
  {
   "cell_type": "code",
   "execution_count": null,
   "id": "8c6b8b56",
   "metadata": {},
   "outputs": [],
   "source": [
    "fig = px.pie(longs.dropna(subset=[\"Value\", \"famaindustry\"]), values=\"Value\", names=\"famaindustry\")\n",
    "fig.write_image(f\"{output_dir}/long_industries.jpeg\")\n",
    "download = f\"{output_dir}/long_industries.html\"\n",
    "fig_html(fig, download)\n",
    "fig.show()"
   ]
  },
  {
   "cell_type": "markdown",
   "id": "3e7ecf11",
   "metadata": {},
   "source": [
    "### Short industries"
   ]
  },
  {
   "cell_type": "code",
   "execution_count": null,
   "id": "5b8194c8",
   "metadata": {},
   "outputs": [],
   "source": [
    "fig = px.pie(shorts.dropna(subset=[\"Value\", \"famaindustry\"]), values=\"Value\", names=\"famaindustry\")\n",
    "fig.write_image(f\"{output_dir}/short_industries.jpeg\")\n",
    "download = f\"{output_dir}/short_industries.html\"\n",
    "fig_html(fig, download)\n",
    "fig.show()"
   ]
  },
  {
   "attachments": {},
   "cell_type": "markdown",
   "id": "ece1a796",
   "metadata": {},
   "source": [
    "### Net exposures: size and characteristics"
   ]
  },
  {
   "cell_type": "code",
   "execution_count": null,
   "id": "67b807cd",
   "metadata": {},
   "outputs": [],
   "source": [
    "for char in \"agr bm marketcap operprof mom12m retvol\".split():\n",
    "    oneday[char+\"_group\"] = pd.qcut(complete[char], 5, labels=range(1, 6))\n",
    "\n",
    "agr = oneday.dropna(subset=[\"marketcap\", \"agr\", \"Value\"]).groupby([\"marketcap_group\", \"agr_group\"]).Value.sum().unstack()\n",
    "bm = oneday.dropna(subset=[\"marketcap\", \"bm\", \"Value\"]).groupby([\"marketcap_group\", \"bm_group\"]).Value.sum().unstack()\n",
    "operprof = oneday.dropna(subset=[\"marketcap\", \"operprof\", \"Value\"]).groupby([\"marketcap_group\", \"operprof_group\"]).Value.sum().unstack()\n",
    "mom12m = oneday.dropna(subset=[\"marketcap\", \"mom12m\", \"Value\"]).groupby([\"marketcap_group\", \"mom12m_group\"]).Value.sum().unstack()\n",
    "retvol = oneday.dropna(subset=[\"marketcap\", \"retvol\", \"Value\"]).groupby([\"marketcap_group\", \"retvol_group\"]).Value.sum().unstack()"
   ]
  },
  {
   "cell_type": "code",
   "execution_count": null,
   "id": "62bb2751-a323-4fec-9538-0fc4c4699d40",
   "metadata": {},
   "outputs": [],
   "source": [
    "chars = \"agr bm operprof mom12m retvol\".split()\n",
    "data = [agr, bm, operprof, mom12m, retvol]\n",
    "\n",
    "for char, d in zip(chars, data):\n",
    "    trace = go.Heatmap(\n",
    "        x=d.columns.to_list(),\n",
    "        y=d.index.to_list(),\n",
    "        z=d,\n",
    "        text = [[char]*5]*5,\n",
    "        colorscale='Viridis',\n",
    "        texttemplate=\"%{z:,.0f}\",\n",
    "        hovertemplate=\"size quintile = %{y}<br>%{text} quintile = %{x}<br>net investment = $%{z:,.0f}<extra></extra>\"\n",
    "    )\n",
    "    fig = go.Figure(trace)\n",
    "    fig.update_layout(\n",
    "        xaxis_title=f\"{char} Quintile (low to high)\",\n",
    "        yaxis_title=\"Size Quintile (low to high)\",\n",
    "        template=\"plotly_white\",\n",
    "        font_size=16\n",
    ")\n",
    "    fig.write_image(f\"{output_dir}/{char}.jpeg\")\n",
    "    download = f\"{output_dir}/{char}}.html\"\n",
    "    fig_html(fig, download)\n",
    "    fig.show()"
   ]
  }
 ],
 "metadata": {
  "kernelspec": {
   "display_name": "Python 3 (ipykernel)",
   "language": "python",
   "name": "python3"
  },
  "language_info": {
   "codemirror_mode": {
    "name": "ipython",
    "version": 3
   },
   "file_e